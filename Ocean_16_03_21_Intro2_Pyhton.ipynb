{
  "nbformat": 4,
  "nbformat_minor": 0,
  "metadata": {
    "colab": {
      "name": "Ocean_16/03/21_Intro2_Pyhton.ipynb",
      "provenance": [],
      "authorship_tag": "ABX9TyOH+RPrE6+tpfdEbbA7Vdp4",
      "include_colab_link": true
    },
    "kernelspec": {
      "name": "python3",
      "display_name": "Python 3"
    }
  },
  "cells": [
    {
      "cell_type": "markdown",
      "metadata": {
        "id": "view-in-github",
        "colab_type": "text"
      },
      "source": [
        "<a href=\"https://colab.research.google.com/github/huacota/Ocean_Jornada_Python_03_2021/blob/main/Ocean_16_03_21_Intro2_Pyhton.ipynb\" target=\"_parent\"><img src=\"https://colab.research.google.com/assets/colab-badge.svg\" alt=\"Open In Colab\"/></a>"
      ]
    },
    {
      "cell_type": "markdown",
      "metadata": {
        "id": "zsrK4hXoCiZj"
      },
      "source": [
        "# Jornada Python: Linguagem Python - aprendendo a linguagem (Parte 2)\n",
        "Este evento faz parte da Jornada de Python. Para participar desta programação, inscreva-se na atividade \"Jornada Python: Linguagem Python - aprendendo a linguagem (Parte 1)\", em 15/03, de 14h às 17h [BSB] , com o Prof. Paulo Salvatore e Prof. Guilherme Feulo.\n",
        "\n",
        "[TRILHA PROGRAMAÇÃO]\n",
        "\n",
        "Linguagem Python: aprendendo a linguagem (Parte 1) [15/03]\n",
        "\n",
        "14h00 às 17h00 [BSB]\n",
        "\n",
        "13h00 às 16h00 [MAO]\n",
        "\n",
        "Prof. Guilherme Feulo e Prof. Paulo Salvatore\n",
        "\n",
        "Linguagem Python: aprendendo a linguagem (Parte 2) [16/03]\n",
        "\n",
        "14h00 às 17h00 [BSB]\n",
        "\n",
        "13h00 às 16h00 [MAO]\n",
        "\n",
        "Prof. Paulo Salvatore\n",
        "\n",
        "Linguagem Python: aprendendo a linguagem (Parte 3) [17/03]\n",
        "\n",
        "14h00 às 17h00 [BSB]\n",
        "\n",
        "13h00 às 16h00 [MAO]\n",
        "\n",
        "Prof. Paulo Salvatore\n",
        "\n",
        "Ementa:\n",
        "\n",
        "Parte 2: Continuando o desenvolvimento realizado no curso \"conhecendo a linguagem python\", entenderemos diversos outros recursos interessantes da linguagem e aprenderemos a resolver exercícios mais complexos.\n",
        "\n",
        "Tópicos:\n",
        "\n",
        "- O que são booleanos (True e False) e para que servem?\n",
        "\n",
        "- Comparações de booleanos: números e textos\n",
        "\n",
        "- Operações booleanas\n",
        "\n",
        "- Declarando condições (if, elif e else)\n",
        "\n",
        "- Funções - Parâmetros e Argumentos das funções\n",
        "\n",
        "- Retorno de funções\n",
        "\n",
        "- Funções com argumentos infinitos\n",
        "\n",
        "Público Alvo: Estudantes, Profissionais, interessados em geral.\n",
        "Pré-Requisitos: Acima de 18 anos.\n",
        "Duração: 3 hora(s), das 14:00 às 17:00\n",
        "Palestrante: Prof. Paulo Salvatore\n",
        "Informações Adicionais: Horário de Brasília. Informações de acesso serão enviadas por e-mail."
      ]
    },
    {
      "cell_type": "code",
      "metadata": {
        "colab": {
          "base_uri": "https://localhost:8080/"
        },
        "id": "45sZLJSiYtug",
        "outputId": "e11e2139-4aa3-4f59-c390-391e8a6f9028"
      },
      "source": [
        "#Valores Boleanos \n",
        "\n",
        "print(True)\n",
        "print(False)"
      ],
      "execution_count": null,
      "outputs": [
        {
          "output_type": "stream",
          "text": [
            "True\n",
            "False\n"
          ],
          "name": "stdout"
        }
      ]
    },
    {
      "cell_type": "code",
      "metadata": {
        "colab": {
          "base_uri": "https://localhost:8080/"
        },
        "id": "kusLaowSZLns",
        "outputId": "65ae4c55-288d-4da0-e0e2-e90380960112"
      },
      "source": [
        "#Compaarações o resultado é valor boleano - True // False \n",
        "#no python o core dele é c++, é apenas a syntax \n",
        "\n",
        "print(\"1 > 1\", 1 > 1) # 1 é maior que 1 => false \n",
        "print(\"1 == 1\", 1 == 1) # 1 é igual a 1 => true \n",
        "print(\"1 != 1\", 1 != 1) # 1 é diferente de 1 => false \n",
        "print(\"1 < 1\", 1 < 1) # 1 é menor que  1 => false \n",
        "print(\"1 <= 1\", 1 <= 1) # 1 é menor ou igual  a  1 => true \n",
        "print(\"1 >= 1\", 1 >= 1) # 1 é maior ou igual a  1 => true "
      ],
      "execution_count": null,
      "outputs": [
        {
          "output_type": "stream",
          "text": [
            "1 > 1 False\n",
            "1 == 1 True\n",
            "1 != 1 False\n",
            "1 < 1 False\n",
            "1 <= 1 True\n",
            "1 >= 1 True\n"
          ],
          "name": "stdout"
        }
      ]
    },
    {
      "cell_type": "code",
      "metadata": {
        "id": "DaSEAaSfdSOo"
      },
      "source": [
        "#Declarações de condição: if, elif (else if), else \n",
        "                  # tab - espaço - shift tab e selecionar duas linhas \n",
        "\n",
        "#Identação block\n"
      ],
      "execution_count": null,
      "outputs": []
    }
  ]
}