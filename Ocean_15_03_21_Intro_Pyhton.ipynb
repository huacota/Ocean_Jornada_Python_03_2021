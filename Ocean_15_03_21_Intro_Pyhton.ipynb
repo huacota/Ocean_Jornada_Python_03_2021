{
  "nbformat": 4,
  "nbformat_minor": 0,
  "metadata": {
    "colab": {
      "name": "Ocean_15/03/21_Intro_Pyhton.ipynb",
      "provenance": [],
      "authorship_tag": "ABX9TyOPGixWZeRvFiA6yK+PxHR2",
      "include_colab_link": true
    },
    "kernelspec": {
      "name": "python3",
      "display_name": "Python 3"
    }
  },
  "cells": [
    {
      "cell_type": "markdown",
      "metadata": {
        "id": "view-in-github",
        "colab_type": "text"
      },
      "source": [
        "<a href=\"https://colab.research.google.com/github/huacota/Ocean_Jornada_Python_03_2021/blob/main/Ocean_15_03_21_Intro_Pyhton.ipynb\" target=\"_parent\"><img src=\"https://colab.research.google.com/assets/colab-badge.svg\" alt=\"Open In Colab\"/></a>"
      ]
    },
    {
      "cell_type": "markdown",
      "metadata": {
        "id": "_bEOvqqhB-3-"
      },
      "source": [
        "# Jornada Python: Linguagem Python - aprendendo a linguagem (Parte 1)\n",
        "Esta atividade é composta por três partes com a seguinte programação:\n",
        "\n",
        "Linguagem Python: aprendendo a linguagem (Parte 1) [15/03]\n",
        "Linguagem Python: aprendendo a linguagem (Parte 2) [16/03]\n",
        "Linguagem Python: aprendendo a linguagem (Parte 3) [17/03]\n",
        "\n",
        "Totalizando a Carga Horária de 9 Horas.\n",
        "\n",
        "Ao se inscrever nesta atividade você estará automaticamente inscrito(a) nas demais partes.\n",
        "\n",
        "Todos os links serão enviados por e-mail com antecedência.\n",
        "\n",
        "Este evento faz parte da Jornada de Python.\n",
        "\n",
        "______________\n",
        "\n",
        "Preparação para o curso:\n",
        "\n",
        "Programação para iniciantes - aprendendo a programar do zero (12/03)\n",
        "\n",
        "14h00 às 17h00 [BSB]\n",
        "\n",
        "13h00 às 16h00 [MAO]\n",
        "\n",
        "Prof. Mario Bessa\n",
        "\n",
        "______________\n",
        "\n",
        "[TRILHA PROGRAMAÇÃO]\n",
        "\n",
        "Linguagem Python: aprendendo a linguagem (Parte 1) [15/03]\n",
        "\n",
        "14h00 às 17h00 [BSB]\n",
        "\n",
        "13h00 às 16h00 [MAO]\n",
        "\n",
        "Prof. Guilherme Feulo e Prof. Paulo Salvatore\n",
        "\n",
        "Linguagem Python: aprendendo a linguagem (Parte 2) [16/03]\n",
        "\n",
        "14h00 às 17h00 [BSB]\n",
        "\n",
        "13h00 às 16h00 [MAO]\n",
        "\n",
        "Prof. Paulo Salvatore\n",
        "\n",
        "Linguagem Python: aprendendo a linguagem (Parte 3) [17/03]\n",
        "\n",
        "14h00 às 17h00 [BSB]\n",
        "\n",
        "13h00 às 16h00 [MAO]\n",
        "\n",
        "Prof. Paulo Salvatore\n",
        "\n",
        "Ementa:\n",
        "\n",
        "Parte 1: Dedicado a quem quer iniciar os seus estudos no universo da programação, utilizando a linguagem de programação Python como ponto de partida. Nesse curso você dará seus primeiros passos, entendendo desde como exibir informação no console, armazenar variáveis na memória, realizar operações matemáticas e resolver alguns desafios (durante e depois da aula) para por em prática os conhecimentos adquiridos.\n",
        "\n",
        "Tópicos: - Conhecendo os ambientes de desenvolvimento - Exibição de informação no console\n",
        "\n",
        "- Criação de variáveis\n",
        "\n",
        "- Familiarizando com os erros (e perdendo o medo deles!)\n",
        "\n",
        "- Entendendo tipos de variáveis: string, int, float e bool\n",
        "\n",
        "- Conhecendo a função type()\n",
        "\n",
        "- Entendendo o que são os comentários de última/várias linhas\n",
        "\n",
        "- Realizando operações matemáticas\n",
        "\n",
        "- Exercício 1: \"E os 10% do garçom?\"\n",
        "\n",
        "- Variáveis, operações matemáticas e exibição no console\n",
        "\n",
        "- Juntando variáveis através da concatenação\n",
        "\n",
        "- Exibindo valores númericos formatados\n",
        "\n",
        "- Formatação de blocos e indentação\n",
        "\n",
        "- Métodos para manipulação de strings\n",
        "\n",
        "- Pegando informações digitadas pelo usuário\n",
        "\n",
        "- Alterando os tipos das variáveis\n",
        "\n",
        "- Exercício 2: \"Quem é você?\"\n",
        "\n",
        "- Interação com o usuário, tipos de variáveis e operações matemáticas\n",
        "\n",
        "- Importando bibliotecas - Trabalhando com data e hora\n",
        "\n",
        "- Exercício 3: \"Que horas são?\"\n",
        "\n",
        "- Manipulação de bibliotecas, variáveis, exibição de números formatados\n",
        "\n",
        "- Desafio extra!\n",
        "\n",
        "- Lista de exercícios\n",
        "\n",
        "Público Alvo: Estudantes, Profissionais, interessados em geral.\n",
        "Pré-Requisitos: Acima de 18 anos.\n",
        "Duração: 3 hora(s), das 14:00 às 17:00\n",
        "Palestrante: Prof. Guilherme Feulo e Prof. Paulo Salvatore\n",
        "Informações Adicionais: Horário de Brasília. Informações de acesso serão enviadas por e-mail."
      ]
    },
    {
      "cell_type": "code",
      "metadata": {
        "id": "FplkUmka9Iq7",
        "colab": {
          "base_uri": "https://localhost:8080/"
        },
        "outputId": "235e6415-a137-458b-9ec0-7043247dbb15"
      },
      "source": [
        "print(\"Olá, mundo!\")"
      ],
      "execution_count": null,
      "outputs": [
        {
          "output_type": "stream",
          "text": [
            "Olá, mundo!\n"
          ],
          "name": "stdout"
        }
      ]
    },
    {
      "cell_type": "code",
      "metadata": {
        "colab": {
          "base_uri": "https://localhost:8080/"
        },
        "id": "qyLTiVN-Ahu9",
        "outputId": "7f283a0d-6225-4272-c900-1ec4305f4895"
      },
      "source": [
        "nome = \"ola, mundo\" \n",
        "print (nome)\n"
      ],
      "execution_count": null,
      "outputs": [
        {
          "output_type": "stream",
          "text": [
            "ola, mundo\n"
          ],
          "name": "stdout"
        }
      ]
    },
    {
      "cell_type": "code",
      "metadata": {
        "colab": {
          "base_uri": "https://localhost:8080/"
        },
        "id": "PGhtpKKbAvBT",
        "outputId": "b89abb4b-c33b-41c0-b7b4-23b3bf8421e4"
      },
      "source": [
        "print(nome)   #notar a ordem que foi feita, mas quando mudando o que tá dentro da var nome muda o conteudo mostrado/resultado"
      ],
      "execution_count": null,
      "outputs": [
        {
          "output_type": "stream",
          "text": [
            "salvarore\n"
          ],
          "name": "stdout"
        }
      ]
    },
    {
      "cell_type": "code",
      "metadata": {
        "colab": {
          "base_uri": "https://localhost:8080/"
        },
        "id": "K3NQ75aqAyBz",
        "outputId": "fac9aac8-fbde-4bd4-dabd-69f32a187645"
      },
      "source": [
        "nome = \"salvarore\"\n",
        "print(nome)"
      ],
      "execution_count": null,
      "outputs": [
        {
          "output_type": "stream",
          "text": [
            "salvarore\n"
          ],
          "name": "stdout"
        }
      ]
    },
    {
      "cell_type": "markdown",
      "metadata": {
        "id": "QYOZpmQkCP_y"
      },
      "source": [
        "Erros  --> melhores amigas - pesquisar sobre o erro e aprender !!! Não ter medo de errar \n",
        "\n",
        "\n"
      ]
    },
    {
      "cell_type": "code",
      "metadata": {
        "colab": {
          "base_uri": "https://localhost:8080/",
          "height": 171
        },
        "id": "yZndpjirBwYA",
        "outputId": "8afb0d4e-3ad8-4da1-bb62-ea775fbb517a"
      },
      "source": [
        "print(numero)"
      ],
      "execution_count": null,
      "outputs": [
        {
          "output_type": "error",
          "ename": "NameError",
          "evalue": "ignored",
          "traceback": [
            "\u001b[0;31m---------------------------------------------------------------------------\u001b[0m",
            "\u001b[0;31mNameError\u001b[0m                                 Traceback (most recent call last)",
            "\u001b[0;32m<ipython-input-15-3b4537653337>\u001b[0m in \u001b[0;36m<module>\u001b[0;34m()\u001b[0m\n\u001b[0;32m----> 1\u001b[0;31m \u001b[0mprint\u001b[0m\u001b[0;34m(\u001b[0m\u001b[0mnumero\u001b[0m\u001b[0;34m)\u001b[0m\u001b[0;34m\u001b[0m\u001b[0;34m\u001b[0m\u001b[0m\n\u001b[0m",
            "\u001b[0;31mNameError\u001b[0m: name 'numero' is not defined"
          ]
        }
      ]
    },
    {
      "cell_type": "markdown",
      "metadata": {
        "id": "c0AEqdh2EAaA"
      },
      "source": [
        "Variáveis Intro "
      ]
    },
    {
      "cell_type": "code",
      "metadata": {
        "colab": {
          "base_uri": "https://localhost:8080/"
        },
        "id": "Gpv58X8UCnOI",
        "outputId": "629fb2a2-27e5-4c0a-af07-f1567210ce8b"
      },
      "source": [
        "# declarar a informação para agurdar na memória e depois dá para acessar a informação e fazer algo com ela \n",
        "\n",
        "numero = 5 \n",
        "print(numero)\n",
        "\n",
        "numero = numero + 5 \n",
        "print(numero)"
      ],
      "execution_count": null,
      "outputs": [
        {
          "output_type": "stream",
          "text": [
            "5\n",
            "10\n"
          ],
          "name": "stdout"
        }
      ]
    },
    {
      "cell_type": "code",
      "metadata": {
        "colab": {
          "base_uri": "https://localhost:8080/"
        },
        "id": "oPFLkeIKDkJw",
        "outputId": "2b68e448-9a34-4739-9a71-4f415e4a1273"
      },
      "source": [
        "print (numero + 10)  #apenas mostra o resultado de num + 10, não muda o valor da variavel - numero APENAS EXECUÇÃO DA INFORMAÇÃO NÃO ARMAZENA\n",
        "print (numero) #como mostrado aqui nesta linha "
      ],
      "execution_count": null,
      "outputs": [
        {
          "output_type": "stream",
          "text": [
            "20\n",
            "10\n"
          ],
          "name": "stdout"
        }
      ]
    },
    {
      "cell_type": "code",
      "metadata": {
        "id": "5s2lu9LpD5Rt"
      },
      "source": [
        "\"\"\" \n",
        "Como fazer um \n",
        "comentário com \n",
        "várias \n",
        "linhas \n",
        "\"\"\""
      ],
      "execution_count": null,
      "outputs": []
    },
    {
      "cell_type": "code",
      "metadata": {
        "colab": {
          "base_uri": "https://localhost:8080/"
        },
        "id": "SkhnFe3jEJxA",
        "outputId": "bceae166-86dc-4ba9-ec91-23d38adc1d25"
      },
      "source": [
        "numero = 5 # Número inteiro: int\n",
        "numero_decimal = 5.5 # Número decimal: float\n",
        "texto = \"Paulo\" # Texto: string\n",
        "maior_idade = True # Booleano: bool\n",
        "\n",
        "print(numero, type(numero))\n",
        "print(numero_decimal, type(numero_decimal))\n",
        "print(texto, type(texto))\n",
        "print(maior_idade, type(maior_idade))\n",
        "\n",
        "\"\"\"\n",
        "tipo_numero = type(numero)\n",
        "print(tipo_numero)\n",
        "\n",
        "print(type(numero))  #aqui apenas irá ser visualizado o tipo da var mas não será armazenado \n",
        "\n",
        "print(5, 10, \"Texto\")\n",
        "\"\"\"; #; para não aparecer no final \n"
      ],
      "execution_count": null,
      "outputs": [
        {
          "output_type": "stream",
          "text": [
            "5 <class 'int'>\n",
            "5.5 <class 'float'>\n",
            "Paulo <class 'str'>\n",
            "True <class 'bool'>\n"
          ],
          "name": "stdout"
        }
      ]
    },
    {
      "cell_type": "code",
      "metadata": {
        "colab": {
          "base_uri": "https://localhost:8080/"
        },
        "id": "35gipg_NG0KW",
        "outputId": "a61a465e-f948-4f78-cfae-4dbbb850b51c"
      },
      "source": [
        "print(5+5)\n",
        "\n",
        "print (\"Paulo\" + \"Salvatore\") \n"
      ],
      "execution_count": null,
      "outputs": [
        {
          "output_type": "stream",
          "text": [
            "10\n",
            "PauloSalvatore\n"
          ],
          "name": "stdout"
        }
      ]
    },
    {
      "cell_type": "markdown",
      "metadata": {
        "id": "xpLD75cLIGWD"
      },
      "source": [
        "Operações\n",
        "\n"
      ]
    },
    {
      "cell_type": "code",
      "metadata": {
        "colab": {
          "base_uri": "https://localhost:8080/"
        },
        "id": "f0M-VTJVIJSk",
        "outputId": "1a015f1b-6f85-4f02-cb96-dca02f05058a"
      },
      "source": [
        "soma = 2 + 3.5 \n",
        "subtracao = 3 - 8 \n",
        "divisao = 7.1/4 \n",
        "multiplicacao = 2.5 * 3 \n",
        "\n",
        "\n",
        "print(soma,subtracao,divisao,multiplicacao)\n"
      ],
      "execution_count": null,
      "outputs": [
        {
          "output_type": "stream",
          "text": [
            "5.5 -5 1.775 7.5\n"
          ],
          "name": "stdout"
        }
      ]
    },
    {
      "cell_type": "code",
      "metadata": {
        "colab": {
          "base_uri": "https://localhost:8080/"
        },
        "id": "S4i9xoQfJWGy",
        "outputId": "06ebb6f4-ed84-4432-a0a5-e8f33e57a38f"
      },
      "source": [
        "exponenciacao = 2 **3 \n",
        "div_inteira = 5 // 3 \n",
        "resto_div = 10%3 \n",
        "\n",
        "print(exponenciacao,div_inteira,resto_div)\n",
        "\n",
        "print(\"10/3 divisão normal  = \",divisao, \"ou 10//3 é a divisão inteira = \", div_inteira,\"e 10%3 devolve o resto da divisão = \", resto_div)"
      ],
      "execution_count": null,
      "outputs": [
        {
          "output_type": "stream",
          "text": [
            "8 1 1\n",
            "10/3 divisão normal  =  1.775 ou 10//3 é a divisão inteira =  1 e 10%3 devolve o resto da divisão =  1\n"
          ],
          "name": "stdout"
        }
      ]
    },
    {
      "cell_type": "markdown",
      "metadata": {
        "id": "cFFlmIs0Ovm3"
      },
      "source": [
        "# Exercício 1 - \"E os 10% do garçom?\"\n",
        "\n",
        "- Defina uma variável para o valor de uma refeição que custou `R$ 42,54`;\n",
        "- Defina uma variável para o valor da taxa de serviço que é de `10%`;\n",
        "- Defina uma variável que calcula o valor total da conta e exiba-o no console (sem formatação, por enquanto, apenas o valor do resultado)."
      ]
    },
    {
      "cell_type": "code",
      "metadata": {
        "colab": {
          "base_uri": "https://localhost:8080/"
        },
        "id": "tBEyJAwyOxUj",
        "outputId": "f3c20202-31e3-44d3-f1a9-7dab6d84344b"
      },
      "source": [
        "valor_refeicao = 42.54\n",
        "taxa = 0.1 * valor_refeicao\n",
        "total = valor_refeicao + taxa \n",
        "print (\"O valor da refeição é =\",refeicao,\"O valor da taxa = \",taxa, \"O valor total para pagar = \",total) \n"
      ],
      "execution_count": null,
      "outputs": [
        {
          "output_type": "stream",
          "text": [
            "O valor da refeição é = 42.54 O valor da taxa =  4.2540000000000004 O valor total para pagar =  46.794\n"
          ],
          "name": "stdout"
        }
      ]
    },
    {
      "cell_type": "code",
      "metadata": {
        "colab": {
          "base_uri": "https://localhost:8080/"
        },
        "id": "Aak3VTVGQCnX",
        "outputId": "329a8a32-4800-4d3f-c8cf-1cbbb1fda875"
      },
      "source": [
        "valor_refeicao = 42.54  #não há separação entre a entrada e saída, tota a vez o usuário que quer saber o quanto tem q pagar ele tem que alterar o código \n",
        "taxa = 10/100 * valor_refeicao\n",
        "total = valor_refeicao + taxa \n",
        "\n",
        "\n",
        "print (refeicao, taxa,total) \n",
        "\n",
        "print (\"O valor da refeição é =\",refeicao,\"O valor da taxa = \",taxa, \"O valor total para pagar = \",total) \n"
      ],
      "execution_count": null,
      "outputs": [
        {
          "output_type": "stream",
          "text": [
            "42.54 4.2540000000000004 46.794\n",
            "O valor da refeição é = 42.54 O valor da taxa =  4.2540000000000004 O valor total para pagar =  46.794\n"
          ],
          "name": "stdout"
        }
      ]
    },
    {
      "cell_type": "markdown",
      "metadata": {
        "id": "Wcbb2H_ASRK9"
      },
      "source": [
        "\n",
        "# Entradas e Saídas Separação \n",
        "\n"
      ]
    },
    {
      "cell_type": "code",
      "metadata": {
        "colab": {
          "base_uri": "https://localhost:8080/",
          "height": 54
        },
        "id": "3OaGUJqiRTvO",
        "outputId": "261166b9-6e73-4d00-affd-c5e05d4162bb"
      },
      "source": [
        "input(\"Digite o valor da refeição: \")"
      ],
      "execution_count": null,
      "outputs": [
        {
          "output_type": "stream",
          "text": [
            "Digite o valor da refeição: 42.54\n"
          ],
          "name": "stdout"
        },
        {
          "output_type": "execute_result",
          "data": {
            "application/vnd.google.colaboratory.intrinsic+json": {
              "type": "string"
            },
            "text/plain": [
              "'42.54'"
            ]
          },
          "metadata": {
            "tags": []
          },
          "execution_count": 70
        }
      ]
    },
    {
      "cell_type": "code",
      "metadata": {
        "colab": {
          "base_uri": "https://localhost:8080/"
        },
        "id": "17_N2tQTRh-c",
        "outputId": "080679fd-ecd5-4387-c1e0-5c1c034ae099"
      },
      "source": [
        "print(refeicao)"
      ],
      "execution_count": null,
      "outputs": [
        {
          "output_type": "stream",
          "text": [
            "42.54\n"
          ],
          "name": "stdout"
        }
      ]
    },
    {
      "cell_type": "code",
      "metadata": {
        "colab": {
          "base_uri": "https://localhost:8080/"
        },
        "id": "DXKhv9wARncf",
        "outputId": "23394d70-61d0-40df-f980-df7d54a4bd7d"
      },
      "source": [
        "refeicao = input(\"Digite o valor da refeição: \") #observe q para guardar/ alterar o valor da refeição deve ser assignado a var\n",
        "print(refeicao)\n",
        "print(type(refeicao)) "
      ],
      "execution_count": null,
      "outputs": [
        {
          "output_type": "stream",
          "text": [
            "Digite o valor da refeição: 42.54\n",
            "42.54\n",
            "<class 'str'>\n"
          ],
          "name": "stdout"
        }
      ]
    },
    {
      "cell_type": "code",
      "metadata": {
        "colab": {
          "base_uri": "https://localhost:8080/",
          "height": 171
        },
        "id": "pOUacxd3SpLL",
        "outputId": "ecbee0fc-d0d4-46c1-cbdc-53b49aeb35bf"
      },
      "source": [
        "refeicao/10 #fazer calculo mas apenas com numeros aí tá string e inteiro "
      ],
      "execution_count": null,
      "outputs": [
        {
          "output_type": "error",
          "ename": "TypeError",
          "evalue": "ignored",
          "traceback": [
            "\u001b[0;31m---------------------------------------------------------------------------\u001b[0m",
            "\u001b[0;31mTypeError\u001b[0m                                 Traceback (most recent call last)",
            "\u001b[0;32m<ipython-input-73-757e4efb3d25>\u001b[0m in \u001b[0;36m<module>\u001b[0;34m()\u001b[0m\n\u001b[0;32m----> 1\u001b[0;31m \u001b[0mrefeicao\u001b[0m\u001b[0;34m/\u001b[0m\u001b[0;36m10\u001b[0m \u001b[0;31m#fazer calculo mas apenas com numeros aí tá string e inteiro\u001b[0m\u001b[0;34m\u001b[0m\u001b[0;34m\u001b[0m\u001b[0m\n\u001b[0m",
            "\u001b[0;31mTypeError\u001b[0m: unsupported operand type(s) for /: 'str' and 'int'"
          ]
        }
      ]
    },
    {
      "cell_type": "code",
      "metadata": {
        "id": "ocCrkFEwS1El"
      },
      "source": [
        "10/10"
      ],
      "execution_count": null,
      "outputs": []
    },
    {
      "cell_type": "code",
      "metadata": {
        "id": "QR2Z2_ayTRyy"
      },
      "source": [
        "#conversão entre tipos de var \n",
        "\n",
        "int(\"10\") + 1 \n"
      ],
      "execution_count": null,
      "outputs": []
    },
    {
      "cell_type": "code",
      "metadata": {
        "colab": {
          "base_uri": "https://localhost:8080/"
        },
        "id": "-C4fVaBRT2Jr",
        "outputId": "35bee68a-a9a9-4309-f5af-b9f872467d36"
      },
      "source": [
        "refeicao = float(input(\"Digite o valor da refeição: \"))\n",
        "print(type(refeicao))\n",
        "\n",
        "taxa = 10/100 * refeicao\n",
        "total = refeicao + taxa \n",
        "\n",
        "\n",
        "print (refeicao, taxa,total) \n",
        "\n",
        "print (\"O valor da refeição é =\",refeicao,\"O valor da taxa = \",taxa, \"O valor total para pagar = \",total) \n",
        "\n",
        "print (f\"O valor da refeição mais serviço é: {total} reais, por favor sem calote \") #string de formatação - vatangem de colocar as variáveis exatamente onde estão "
      ],
      "execution_count": null,
      "outputs": [
        {
          "output_type": "stream",
          "text": [
            "Digite o valor da refeição: 42.54\n",
            "<class 'float'>\n",
            "42.54 4.2540000000000004 46.794\n",
            "O valor da refeição é = 42.54 O valor da taxa =  4.2540000000000004 O valor total para pagar =  46.794\n",
            "O valor da refeição mais serviço é: 46.794 reais, por favor sem calote \n"
          ],
          "name": "stdout"
        }
      ]
    },
    {
      "cell_type": "code",
      "metadata": {
        "colab": {
          "base_uri": "https://localhost:8080/"
        },
        "id": "qwYHfzzOWqvT",
        "outputId": "b7b30bda-aa71-4820-ecd8-c9d2ab0c10ea"
      },
      "source": [
        "print (f\"O valor da refeição mais serviço é: R$ {total:.0f} , por favor sem calote \") #string de formatação "
      ],
      "execution_count": null,
      "outputs": [
        {
          "output_type": "stream",
          "text": [
            "O valor da refeição mais serviço é: R$ 47 , por favor sem calote \n"
          ],
          "name": "stdout"
        }
      ]
    },
    {
      "cell_type": "code",
      "metadata": {
        "colab": {
          "base_uri": "https://localhost:8080/"
        },
        "id": "xOuDY-ELXGtF",
        "outputId": "63dcff9d-442d-40f4-c6e5-c6df558c2f75"
      },
      "source": [
        "total  #com a formatação de string apenas se muda o jeito de mostrar, mas o valor da var continua o msm "
      ],
      "execution_count": null,
      "outputs": [
        {
          "output_type": "execute_result",
          "data": {
            "text/plain": [
              "46.794"
            ]
          },
          "metadata": {
            "tags": []
          },
          "execution_count": 76
        }
      ]
    },
    {
      "cell_type": "code",
      "metadata": {
        "colab": {
          "base_uri": "https://localhost:8080/"
        },
        "id": "goDZWHDjbdRP",
        "outputId": "f3e82e13-9cdd-4a05-91ec-d0adc4cd9795"
      },
      "source": [
        "#Indentenção e formatação dos blocos \n",
        "\n",
        "if True:\n",
        "  print(\"Esse if será lido\")\n",
        "\n",
        "if False: \n",
        "  print(\"Esse if não será lido\")\n",
        "  print(\"Esse if não será lido\")\n",
        "  print(\"Esse if não será lido\")\n",
        "  \n",
        "print(\"Esse if será lido porque está fora do if false\")"
      ],
      "execution_count": null,
      "outputs": [
        {
          "output_type": "stream",
          "text": [
            "Esse if será lido\n",
            "Esse if será lido porque está fora do if false\n"
          ],
          "name": "stdout"
        }
      ]
    },
    {
      "cell_type": "code",
      "metadata": {
        "colab": {
          "base_uri": "https://localhost:8080/"
        },
        "id": "oGT3yAWxcKVy",
        "outputId": "403f15ae-ab67-4f3f-ca13-bfa3d8c07bd2"
      },
      "source": [
        "if True:\n",
        "  print(\"Esse if será lido\")\n",
        "\n",
        "if False: \n",
        "  print(\"Esse if não será lido\")\n",
        "  print(\"Esse if não será lido\")\n",
        "  print(\"Esse if não será lido\")\n",
        "  \n",
        "print(\"Esse if será lido porque está fora do if false\")"
      ],
      "execution_count": null,
      "outputs": [
        {
          "output_type": "stream",
          "text": [
            "Esse if será lido\n",
            "Esse if será lido porque está fora do if false\n"
          ],
          "name": "stdout"
        }
      ]
    },
    {
      "cell_type": "code",
      "metadata": {
        "colab": {
          "base_uri": "https://localhost:8080/"
        },
        "id": "UkzCSSDRD2n-",
        "outputId": "93f50d8b-bbbf-4217-8d30-f10c2cd93c30"
      },
      "source": [
        "def exibir_dados(dado): #apenas definindo a função <-- 3 - função \n",
        "  print(dado)\n",
        "  print(5)\n",
        "  print(\"Dentro do def\")\n",
        "\n",
        "print(\"Fora do def\")  # 1 - Vé como foi a ordem de exibição, \n",
        "\n",
        "exibir_dados(\"dado no final do código\") 2 - função sendo chamada "
      ],
      "execution_count": null,
      "outputs": [
        {
          "output_type": "stream",
          "text": [
            "Fora do def\n",
            "dado no final do código\n",
            "5\n",
            "Dentro do def\n"
          ],
          "name": "stdout"
        }
      ]
    },
    {
      "cell_type": "markdown",
      "metadata": {
        "id": "8-dkovUmEqzf"
      },
      "source": [
        "# Exercício 2 - Input de Informações\n",
        "Objetivo: Receber dados do usuário, trabalhar com os valores e exibir para o usuário.\n",
        "\n",
        "Dificuldade: Principiante\n",
        "\n",
        "1 - Crie um programa que receba do usuário seu nome, idade e gênero;\n",
        "\n",
        "2 - Exiba na tela seguinte mensagem: \"Olá, {nome}, você possui {idade} anos de idade e é do gênero {genero}.\";\n",
        "\n",
        "3 - Exiba também: \"Já pensou no que você fará no seu aniversário de {idade + 1} anos?\".\n",
        "\n",
        "Adicionando uma pimentinha extra: \"Se o usuário digitar idade 1, exiba apenas \"ano\" em vez de \"anos\". \"\"\""
      ]
    },
    {
      "cell_type": "code",
      "metadata": {
        "colab": {
          "base_uri": "https://localhost:8080/"
        },
        "id": "-VbVn7O5EtTm",
        "outputId": "8789108e-5025-4c5f-fa64-74f7568808ff"
      },
      "source": [
        "nome = input(\"Qual é o seu nome? \") #função tem parenteses\n",
        "idade = int(input(\"Quantos anos você tem? \")) #a função INPUT sempre retorna uma STRING por isso é necessária a conversão para somar 1 \n",
        "genero = input(\"Informe seu gênero: \")\n",
        "\n",
        "# print(nome,idade,genero)\n",
        "# print(f \"Olá, {nome}, você possui {idade} anos de idade e é do gênero {genero})\n",
        "\n",
        "print(f\"Olá, {nome}, você possui {idade} anos de idade e é do gênero {genero}\")\n",
        "\n",
        "# print(f \"Olá, {nome}, você possui {idade} anos de idade e é do gênero {genero}\") cuidado com os espaços aqui dá errado\n",
        "\n",
        "exibicao_anos = \"\"\n",
        "\n",
        "if idade + 1 > 1:\n",
        "  exibicao_anos = \"anos\"\n",
        "else: \n",
        "  exibicao_anos= \"ano\"\n",
        "\n",
        "print(f\"Já pensou no que você fará no seu aniversário de {idade + 1} {exibicao_anos} ?\") #conversão de str para int e somar com int "
      ],
      "execution_count": null,
      "outputs": [
        {
          "output_type": "stream",
          "text": [
            "Qual é o seu nome? gh\n",
            "Quantos anos você tem? 0\n",
            "Informe seu gênero: f\n",
            "Olá, gh, você possui 0 anos de idade e é do gênero f\n",
            "Já pensou no que você fará no seu aniversário de 1 ano ?\n"
          ],
          "name": "stdout"
        }
      ]
    }
  ]
}