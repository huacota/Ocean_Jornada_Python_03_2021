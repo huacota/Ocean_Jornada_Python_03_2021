{
  "nbformat": 4,
  "nbformat_minor": 0,
  "metadata": {
    "colab": {
      "name": "Ocean_19_03_21_DESAFIO_Intro4_Pyhton_Ciencia_de_Dados.ipynb",
      "provenance": [],
      "authorship_tag": "ABX9TyNmktbdIasPLWm1u1sBcE4i",
      "include_colab_link": true
    },
    "kernelspec": {
      "name": "python3",
      "display_name": "Python 3"
    },
    "language_info": {
      "name": "python"
    }
  },
  "cells": [
    {
      "cell_type": "markdown",
      "metadata": {
        "id": "view-in-github",
        "colab_type": "text"
      },
      "source": [
        "<a href=\"https://colab.research.google.com/github/huacota/Ocean_Jornada_Python_03_2021/blob/main/Ocean_19_03_21_DESAFIO_Intro4_Pyhton_Ciencia_de_Dados.ipynb\" target=\"_parent\"><img src=\"https://colab.research.google.com/assets/colab-badge.svg\" alt=\"Open In Colab\"/></a>"
      ]
    },
    {
      "cell_type": "markdown",
      "metadata": {
        "id": "2mal4GX8mGJb"
      },
      "source": [
        "#BANCO DE DADOS - DESAFIO \n",
        "\n",
        "Data Description\n",
        "Informações dos atributos\n",
        "Atributos de Entrada\n",
        "\n",
        "**Relacionadas a informação bancária\n",
        "age (numeric)**\n",
        "\n",
        "job : type of job (categorical: \"admin.\",\"blue-collar\",\"entrepreneur\",\"housemaid\",\"management\",\"retired\",\"self-employed\",\"services\",\"student\",\"technician\",\"unemployed\",\"unknown\")\n",
        "\n",
        "marital : marital status (categorical: \"divorced\",\"married\",\"single\",\"unknown\"; note: \"divorced\" means divorced or widowed)\n",
        "\n",
        "education (categorical: \"basic.4y\",\"basic.6y\",\"basic.9y\",\"high.school\",\"illiterate\",\"professional.course\",\"university.degree\",\"unknown\")\n",
        "\n",
        "default: has credit in default? (categorical: \"no\",\"yes\",\"unknown\") \n",
        "\n",
        "[obs: defaltar ? já tem emprestimo e não foi pago ? ]\n",
        "\n",
        "housing: has housing loan? (categorical: \"no\",\"yes\",\"unknown\")\n",
        "\n",
        "[obs: tem hipoteca ? faz um emprestimo e tem como garantia a casa, se a pessoa não pagar a casa será tomada ]\n",
        "\n",
        "loan: has personal loan? (categorical: \"no\",\"yes\",\"unknown\")\n",
        "\n",
        "*** Relacionadas com o último contato dessa mesma campanha\n",
        "contact: contact communication type (categorical: \"cellular\",\"telephone\")***\n",
        "\n",
        "month: last contact month of year (categorical: \"jan\", \"feb\", \"mar\", ..., \"nov\", \"dec\")\n",
        "\n",
        "day_of_week: last contact day of the week (categorical: \"mon\",\"tue\",\"wed\",\"thu\",\"fri\")\n",
        "\n",
        "duration: last contact duration, in seconds (numeric). \n",
        "\n",
        "Important note: this attribute highly affects the output target (e.g., if duration=0 then y=\"no\"). Yet, the duration is not known before a call is performed. Also, after the end of the call y is obviously known. Thus, this input should only be included for benchmark purposes and should be discarded if the intention is to have a realistic predictive model.\n",
        "\n",
        "**Outros atributos**\n",
        "\n",
        "campaign: number of contacts performed during this campaign and for this client (numeric, includes last contact)\n",
        "\n",
        "pdays: number of days that passed by after the client was last contacted from a previous campaign (numeric; 999 means client was not previously contacted)\n",
        "\n",
        "previous: number of contacts performed before this campaign and for this client (numeric)\n",
        "\n",
        "[obs: numero de contatos feitos anteriormente]\n",
        "\n",
        "poutcome: outcome of the previous marketing campaign (categorical: \"failure\",\"nonexistent\",\"success\")\n",
        "\n",
        "[obs: numero de contatos feitos anteriormente - resultados ?   fracasso, não existente, sucesso]\n",
        "\n",
        "\n",
        "**Atributos de contexto social e econômico**\n",
        "\n",
        "emp.var.rate: employment variation rate - quarterly indicator (numeric)\n",
        "\n",
        "cons.price.idx: consumer price index - monthly indicator (numeric)\n",
        "\n",
        "[obs: parecido com o ipca]\n",
        "\n",
        "cons.conf.idx: consumer confidence index - monthly indicator (numeric)\n",
        "\n",
        "euribor3m: euribor 3 month rate - daily indicator (numeric)\n",
        "\n",
        "nr.employed: number of employees - quarterly indicator (numeric)\n",
        "\n",
        "**Atributo Alvo**\n",
        "\n",
        "y - has the client subscribed a term deposit? (binary: \"yes\",\"no\")"
      ]
    },
    {
      "cell_type": "code",
      "metadata": {
        "id": "KBVMricvlrR0"
      },
      "source": [
        ""
      ],
      "execution_count": null,
      "outputs": []
    }
  ]
}